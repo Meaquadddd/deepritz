{
 "cells": [
  {
   "cell_type": "code",
   "execution_count": 6,
   "metadata": {},
   "outputs": [],
   "source": [
    "#test file for one dimensionl problem\n",
    "class Args:\n",
    "    dim_in = 11 # default\n",
    "    dim_out = 1 #default\n",
    "    hidden_layer_size = 256 #W\n",
    "    hideen_layer_num = 5 #L\n",
    "    penalty_coeff = 50 #beta\n",
    "    epoch = 2000 # for test\n",
    "    lr = 1e-3\n",
    "    turncated_num = 5 #n\n",
    "    num_batch = 1000 #M\n",
    "args = Args()"
   ]
  },
  {
   "cell_type": "code",
   "execution_count": 7,
   "metadata": {},
   "outputs": [],
   "source": [
    "from normal_fc_model import FC_DNN\n",
    "import torch\n",
    "model = FC_DNN(args.dim_in,args.dim_out,args.hidden_layer_size,args.hideen_layer_num)"
   ]
  },
  {
   "cell_type": "code",
   "execution_count": 8,
   "metadata": {},
   "outputs": [
    {
     "data": {
      "text/plain": [
       "torch.Size([1000, 11])"
      ]
     },
     "execution_count": 8,
     "metadata": {},
     "output_type": "execute_result"
    }
   ],
   "source": [
    "x = torch.randn(args.num_batch,1)\n",
    "Z = torch.randn(args.num_batch,2,args.turncated_num)\n",
    "final_input = torch.cat((x,Z.reshape(args.num_batch,2*args.turncated_num)),dim=1)\n",
    "final_input.shape"
   ]
  },
  {
   "cell_type": "code",
   "execution_count": 257,
   "metadata": {},
   "outputs": [],
   "source": [
    "import torch.autograd as ag\n",
    "def grad(outputs, inputs):\n",
    "    '''\n",
    "    求梯度的快速函数\n",
    "    '''\n",
    "    return ag.grad(outputs, inputs, grad_outputs=torch.ones_like(outputs), \n",
    "                   create_graph=True)"
   ]
  },
  {
   "cell_type": "code",
   "execution_count": 258,
   "metadata": {},
   "outputs": [],
   "source": [
    "final_input.requires_grad = True\n",
    "u = model(final_input)\n",
    "u_x = grad(u,final_input)[0][:,0].unsqueeze(-1)"
   ]
  },
  {
   "cell_type": "code",
   "execution_count": 263,
   "metadata": {},
   "outputs": [],
   "source": [
    "def random_field(x,n,beta,Z):\n",
    "    '''\n",
    "    shape of x: (num_of_sample,dim_of_features)\n",
    "    shape of Z: (num_of_sample,2,n)\n",
    "    '''\n",
    "    coeff = torch.arange(start=1,end=n+1)\n",
    "    new_x = torch.pi*coeff*x.repeat(1,n)\n",
    "    part_1 = Z[:,0,:]*torch.sin(new_x)\n",
    "    part_2 = Z[:,1,:]*torch.cos(new_x)\n",
    "    V = torch.sum(part_1+part_2,dim=1)/torch.sqrt(torch.tensor(n))\n",
    "    result = torch.exp(beta*V)\n",
    "    return result.unsqueeze(-1)"
   ]
  },
  {
   "cell_type": "code",
   "execution_count": 265,
   "metadata": {},
   "outputs": [
    {
     "data": {
      "text/plain": [
       "torch.Size([1000, 1])"
      ]
     },
     "execution_count": 265,
     "metadata": {},
     "output_type": "execute_result"
    }
   ],
   "source": [
    "K = random_field(x,args.turncated_num,0.1,Z)\n",
    "K.shape"
   ]
  },
  {
   "cell_type": "code",
   "execution_count": 95,
   "metadata": {},
   "outputs": [],
   "source": [
    "def random_field(x,n,beta,Z):\n",
    "    x = x.reshape(1,len(x))#resize the x\n",
    "    coeff = torch.arange(start=1,end=n+1).reshape(n,1)\n",
    "    new_x = torch.pi*coeff*x.repeat(n,1)\n",
    "    part_1 = Z[:,0,:]*torch.sin(new_x)\n",
    "    part_2 = Z[:,1,:]*torch.cos(new_x)\n",
    "    V = torch.sum(part_1+part_2,dim=0)/torch.sqrt(torch.tensor(n))\n",
    "    result = torch.exp(beta*V)\n",
    "    return result"
   ]
  },
  {
   "cell_type": "code",
   "execution_count": 146,
   "metadata": {},
   "outputs": [
    {
     "data": {
      "text/plain": [
       "tensor([[ 0.5102],\n",
       "        [ 0.5339],\n",
       "        [-0.8755],\n",
       "        [-1.0414],\n",
       "        [-0.9845],\n",
       "        [ 0.4510],\n",
       "        [ 2.2371],\n",
       "        [ 0.3768],\n",
       "        [-0.5928],\n",
       "        [-2.7241]])"
      ]
     },
     "execution_count": 146,
     "metadata": {},
     "output_type": "execute_result"
    }
   ],
   "source": [
    "Z = torch.randn(10,2,args.turncated_num)\n",
    "x = torch.randn(10,1)\n",
    "x"
   ]
  },
  {
   "cell_type": "code",
   "execution_count": 150,
   "metadata": {},
   "outputs": [
    {
     "data": {
      "text/plain": [
       "tensor([[ 0.5102,  0.5102,  0.5102,  0.5102,  0.5102],\n",
       "        [ 0.5339,  0.5339,  0.5339,  0.5339,  0.5339],\n",
       "        [-0.8755, -0.8755, -0.8755, -0.8755, -0.8755],\n",
       "        [-1.0414, -1.0414, -1.0414, -1.0414, -1.0414],\n",
       "        [-0.9845, -0.9845, -0.9845, -0.9845, -0.9845],\n",
       "        [ 0.4510,  0.4510,  0.4510,  0.4510,  0.4510],\n",
       "        [ 2.2371,  2.2371,  2.2371,  2.2371,  2.2371],\n",
       "        [ 0.3768,  0.3768,  0.3768,  0.3768,  0.3768],\n",
       "        [-0.5928, -0.5928, -0.5928, -0.5928, -0.5928],\n",
       "        [-2.7241, -2.7241, -2.7241, -2.7241, -2.7241]])"
      ]
     },
     "execution_count": 150,
     "metadata": {},
     "output_type": "execute_result"
    }
   ],
   "source": [
    "n = 5\n",
    "coeff = torch.arange(start=1,end=n+1)\n",
    "x.repeat(1,5)"
   ]
  },
  {
   "cell_type": "code",
   "execution_count": 266,
   "metadata": {},
   "outputs": [],
   "source": [
    "def Interior_1d_sampler(M,left_side,right_side):\n",
    "    sampler = torch.distributions.uniform.Uniform(low=left_side,high=right_side)\n",
    "    x = sampler.sample(sample_shape=(M,1))\n",
    "    return x"
   ]
  },
  {
   "cell_type": "code",
   "execution_count": 267,
   "metadata": {},
   "outputs": [
    {
     "data": {
      "text/plain": [
       "tensor([[ 0.4263],\n",
       "        [-0.7627],\n",
       "        [-0.1863],\n",
       "        [-0.7705],\n",
       "        [-0.2866],\n",
       "        [ 0.9212],\n",
       "        [-0.3783],\n",
       "        [ 0.8559],\n",
       "        [-0.8839],\n",
       "        [-0.4087]])"
      ]
     },
     "execution_count": 267,
     "metadata": {},
     "output_type": "execute_result"
    }
   ],
   "source": [
    "Interior_1d_sampler(10,-1,1)"
   ]
  },
  {
   "cell_type": "code",
   "execution_count": 164,
   "metadata": {},
   "outputs": [
    {
     "data": {
      "text/plain": [
       "tensor([ 1.0553,  1.1083, -0.5254,  0.3612, -0.1444,  0.5370,  2.0725, -0.1294,\n",
       "        -0.7982,  0.3188])"
      ]
     },
     "execution_count": 164,
     "metadata": {},
     "output_type": "execute_result"
    }
   ],
   "source": [
    "new_x = torch.sin(torch.pi*coeff*x.repeat(1,5))\n",
    "new_x.sum(dim=1)"
   ]
  },
  {
   "cell_type": "code",
   "execution_count": 274,
   "metadata": {},
   "outputs": [],
   "source": [
    "def Boundary_1d_sampler(M,left_side,right_side):\n",
    "    weight = torch.tensor([0.5,0.5])\n",
    "    S = torch.multinomial(weight,M,replacement = True)\n",
    "    S = torch.where(S==0,left_side,S)\n",
    "    S = torch.where(S==1,right_side,S)\n",
    "    return S"
   ]
  },
  {
   "cell_type": "code",
   "execution_count": 159,
   "metadata": {},
   "outputs": [
    {
     "data": {
      "text/plain": [
       "tensor([[-0.8863, -0.0104, -0.1724, -0.0777, -0.4320],\n",
       "        [ 1.4040, -0.3245, -0.2142, -0.2094,  0.1316],\n",
       "        [-0.7171, -0.8764,  1.4772,  2.0238, -0.3280],\n",
       "        [ 0.1314,  0.1779,  0.2035, -0.2094,  0.2356],\n",
       "        [-0.0625, -0.1845, -0.0212,  0.1166, -0.1152],\n",
       "        [-0.1416,  0.0768,  0.7502,  0.8785, -0.0620],\n",
       "        [ 0.9963,  0.7105,  0.2977, -0.3573, -1.1939],\n",
       "        [-0.1172,  0.5481, -0.5409, -0.0802,  0.1519],\n",
       "        [ 0.4149, -0.1710,  0.4731,  1.2270, -0.0107],\n",
       "        [-0.6469, -1.2756,  1.2952,  0.2212,  0.4732]])"
      ]
     },
     "execution_count": 159,
     "metadata": {},
     "output_type": "execute_result"
    }
   ],
   "source": [
    "Z[:,0,:]*new_x"
   ]
  },
  {
   "cell_type": "code",
   "execution_count": 167,
   "metadata": {},
   "outputs": [
    {
     "data": {
      "text/plain": [
       "tensor([[0.6538],\n",
       "        [0.7394],\n",
       "        [0.3368],\n",
       "        [0.0008],\n",
       "        [0.0088]])"
      ]
     },
     "execution_count": 167,
     "metadata": {},
     "output_type": "execute_result"
    }
   ],
   "source": [
    "test = torch.rand(5).unsqueeze(-1)\n",
    "test"
   ]
  },
  {
   "cell_type": "code",
   "execution_count": 59,
   "metadata": {},
   "outputs": [],
   "source": [
    "def random_field(x,n,beta):\n",
    "    Z = torch.randn(2,n,1)\n",
    "    coeff = torch.arange(start=1,end=n+1).reshape(n,1)\n",
    "    part_1 = Z[0,:]*torch.sin(torch.pi*coeff*x.repeat(n,1))\n",
    "    part_2 = Z[1,:]*torch.cos(torch.pi*coeff*x.repeat(n,1))\n",
    "    result = torch.sum(part_1+part_2,dim=0)\n",
    "    result = torch.exp(beta*result)\n",
    "    return part_1"
   ]
  },
  {
   "cell_type": "code",
   "execution_count": 60,
   "metadata": {},
   "outputs": [
    {
     "data": {
      "text/plain": [
       "tensor([[ 0.8313,  0.6880,  0.9824],\n",
       "        [-0.8981, -0.8084,  0.9313],\n",
       "        [-1.0887, -1.1734, -0.7971],\n",
       "        [ 0.7588,  1.2778,  0.0762],\n",
       "        [ 0.0070, -0.0306,  0.0466]])"
      ]
     },
     "execution_count": 60,
     "metadata": {},
     "output_type": "execute_result"
    }
   ],
   "source": [
    "random_field(x,args.turncated_num,0.1)"
   ]
  },
  {
   "cell_type": "code",
   "execution_count": 226,
   "metadata": {},
   "outputs": [
    {
     "data": {
      "text/plain": [
       "tensor([0.0474, 0.0107, 0.0424, 0.0594, 0.0493, 0.0079, 0.0251, 0.0426, 0.0594,\n",
       "        0.0593], grad_fn=<SelectBackward0>)"
      ]
     },
     "execution_count": 226,
     "metadata": {},
     "output_type": "execute_result"
    }
   ],
   "source": [
    "u = model(final_input)\n",
    "final_input.requires_grad = True\n",
    "grad(u,final_input)[0][:,0]"
   ]
  },
  {
   "cell_type": "code",
   "execution_count": 28,
   "metadata": {},
   "outputs": [],
   "source": [
    "import torch\n",
    "import seaborn as sns\n",
    "def Slice_plot(model,x,num_sample,n):\n",
    "    import matplotlib.pyplot as plt\n",
    "    import seaborn as sns\n",
    "    sns.set()\n",
    "    Z = torch.randn(num_sample,2*n)\n",
    "    X = x.repeat(num_sample,1)\n",
    "    input_value = torch.cat((X,Z),dim=1)\n",
    "    u = model(input_value)[:,0].detach().cpu().numpy()\n",
    "    plt.title('slice plot when x = {}'.format(x))\n",
    "    sns.kdeplot(u)"
   ]
  },
  {
   "cell_type": "code",
   "execution_count": 29,
   "metadata": {},
   "outputs": [
    {
     "data": {
      "image/png": "[encoded data removed]",
      "text/plain": [
       "<Figure size 432x288 with 1 Axes>"
      ]
     },
     "metadata": {},
     "output_type": "display_data"
    }
   ],
   "source": [
    "Slice_plot(model,torch.tensor(0),1000,5)"
   ]
  },
  {
   "cell_type": "code",
   "execution_count": 20,
   "metadata": {},
   "outputs": [
    {
     "data": {
      "text/plain": [
       "<AxesSubplot:ylabel='Density'>"
      ]
     },
     "execution_count": 20,
     "metadata": {},
     "output_type": "execute_result"
    },
    {
     "data": {
      "image/png": "[encoded data removed]",
      "text/plain": [
       "<Figure size 432x288 with 1 Axes>"
      ]
     },
     "metadata": {
      "needs_background": "light"
     },
     "output_type": "display_data"
    }
   ],
   "source": [
    "sns.kdeplot(u[:,0])"
   ]
  },
  {
   "cell_type": "code",
   "execution_count": 17,
   "metadata": {},
   "outputs": [],
   "source": [
    "import numpy as np\n",
    "def GetGaussParams_1D(num):\n",
    "    if num == 1:\n",
    "        X = torch.tensor([0])\n",
    "        A = torch.tensor([2])\n",
    "    elif num == 2:\n",
    "        X = torch.tensor([np.math.sqrt(1/3), -np.math.sqrt(1/3)])\n",
    "        A = torch.tensor([1, 1])\n",
    "    elif num == 3:\n",
    "        X = torch.tensor([np.math.sqrt(3/5), -np.math.sqrt(3/5), 0])\n",
    "        A = torch.tensor([5/9, 5/9, 8/9])\n",
    "    elif num == 6:\n",
    "        X = torch.tensor([0.238619186081526, -0.238619186081526, 0.661209386472165, -0.661209386472165, 0.932469514199394, -0.932469514199394])\n",
    "        A = torch.tensor([0.467913934574257, 0.467913934574257, 0.360761573028128, 0.360761573028128, 0.171324492415988, 0.171324492415988])\n",
    "    elif num == 10:\n",
    "        X = torch.tensor([0.973906528517240, -0.973906528517240, 0.433395394129334, -0.433395394129334, 0.865063366688893, -0.865063366688893, \\\n",
    "             0.148874338981367, -0.148874338981367, 0.679409568299053, -0.679409568299053])\n",
    "        A = torch.tensor([0.066671344307672, 0.066671344307672, 0.269266719309847, 0.269266719309847, 0.149451349151147, 0.149451349151147, \\\n",
    "            0.295524224714896, 0.295524224714896, 0.219086362515885, 0.219086362515885])\n",
    "    else:\n",
    "         raise Exception(\">>> Unsupported num = {} <<<\".format(num))\n",
    "    return X, A\n",
    "\n",
    "def GaussIntegral_1D(func, a, b, num,Z):\n",
    "    term1 = (b - a) / 2\n",
    "    term2 = (a + b) / 2\n",
    "    X,A = GetGaussParams_1D(num)\n",
    "    term3 = func(term1 * X + term2,Z)\n",
    "    term4 = torch.sum(A * term3)\n",
    "    val = term1 * term4\n",
    "    return val"
   ]
  },
  {
   "cell_type": "code",
   "execution_count": 4,
   "metadata": {},
   "outputs": [],
   "source": [
    "import torch\n",
    "def random_field(x,n,beta,Z):\n",
    "    '''\n",
    "    shape of x: (num_of_sample,dim_of_features)\n",
    "    shape of Z: (num_of_sample,2,n)\n",
    "    '''\n",
    "    coeff = torch.arange(start=1,end=n+1).cuda()\n",
    "    new_x = torch.pi*coeff*x.repeat(1,n)\n",
    "    part_1 = Z[:,0,:]*torch.sin(new_x)\n",
    "    part_2 = Z[:,1,:]*torch.cos(new_x)\n",
    "    V = torch.sum(part_1+part_2,dim=1)/torch.sqrt(torch.tensor(n))\n",
    "    result = torch.exp(beta*V)\n",
    "    return result.unsqueeze(-1)\n",
    "\n",
    "\n",
    "def GetGaussParams_1D(num):\n",
    "    if num == 1:\n",
    "        X = torch.tensor([0])\n",
    "        A = torch.tensor([2])\n",
    "    elif num == 2:\n",
    "        X = torch.tensor([np.math.sqrt(1/3), -np.math.sqrt(1/3)])\n",
    "        A = torch.tensor([1, 1])\n",
    "    elif num == 3:\n",
    "        X = torch.tensor([np.math.sqrt(3/5), -np.math.sqrt(3/5), 0])\n",
    "        A = torch.tensor([5/9, 5/9, 8/9])\n",
    "    elif num == 6:\n",
    "        X = torch.tensor([0.238619186081526, -0.238619186081526, 0.661209386472165, -0.661209386472165, 0.932469514199394, -0.932469514199394])\n",
    "        A = torch.tensor([0.467913934574257, 0.467913934574257, 0.360761573028128, 0.360761573028128, 0.171324492415988, 0.171324492415988])\n",
    "    elif num == 10:\n",
    "        X = torch.tensor([0.973906528517240, -0.973906528517240, 0.433395394129334, -0.433395394129334, 0.865063366688893, -0.865063366688893, \\\n",
    "             0.148874338981367, -0.148874338981367, 0.679409568299053, -0.679409568299053])\n",
    "        A = torch.tensor([0.066671344307672, 0.066671344307672, 0.269266719309847, 0.269266719309847, 0.149451349151147, 0.149451349151147, \\\n",
    "            0.295524224714896, 0.295524224714896, 0.219086362515885, 0.219086362515885])\n",
    "    else:\n",
    "         raise Exception(\">>> Unsupported num = {} <<<\".format(num))\n",
    "    return X.cuda(), A.cuda()\n",
    "\n",
    "def GaussIntegral_1D(func, a, b, num,Z):\n",
    "    '''\n",
    "    I do not use this..\n",
    "    '''\n",
    "    term1 = (b - a) / 2\n",
    "    term2 = (a + b) / 2\n",
    "    X,A = GetGaussParams_1D(num)\n",
    "    term3 = func(term1 * X + term2,Z)\n",
    "    term4 = torch.sum(A * term3)\n",
    "    val = term1 * term4\n",
    "    return val\n",
    "\n",
    "def Generate_Gauss_1D_point(a,b,num):\n",
    "    term1 = (b - a) / 2\n",
    "    term2 = (a + b) / 2\n",
    "    X,A = GetGaussParams_1D(num)\n",
    "    modi_X = term1 * X + term2\n",
    "    return modi_X.cuda(),A.cuda()"
   ]
  },
  {
   "cell_type": "code",
   "execution_count": 44,
   "metadata": {},
   "outputs": [],
   "source": [
    "def Gauss_integral(num_sample,Z,num,a,b,n,beta):\n",
    "    modi_X,A = Generate_Gauss_1D_point(a,b,num)\n",
    "    A = A.unsqueeze(-1).cuda()\n",
    "    result_list = torch.zeros(len(modi_X),num_sample).cuda()\n",
    "    i=0\n",
    "    for x in modi_X:\n",
    "        result_list[i,:] = random_field(x.repeat(num_sample,1),n,beta,Z)[:,0]\n",
    "        i = i+1\n",
    "    result = torch.sum(A*result_list,dim=0)*(b-a)/2\n",
    "    return result"
   ]
  },
  {
   "cell_type": "code",
   "execution_count": 46,
   "metadata": {},
   "outputs": [
    {
     "data": {
      "text/plain": [
       "tensor([0.8477, 0.7862, 0.7147, 0.7035, 0.7933, 0.7641, 0.7404, 0.7999, 0.6899,\n",
       "        0.8051], device='cuda:0')"
      ]
     },
     "execution_count": 46,
     "metadata": {},
     "output_type": "execute_result"
    }
   ],
   "source": [
    "num_sample = 10\n",
    "n = 5\n",
    "Z = torch.randn(num_sample,2,n).cuda()\n",
    "Gauss_integral(num_sample,Z,6,-1,0.5,n,0.1)/Gauss_integral(num_sample,Z,6,-1,1,n,0.1)"
   ]
  },
  {
   "cell_type": "code",
   "execution_count": 1,
   "metadata": {},
   "outputs": [],
   "source": [
    "import torch\n",
    "Z = torch.tensor([1,-1,1,1,-1,1])"
   ]
  },
  {
   "cell_type": "code",
   "execution_count": 2,
   "metadata": {},
   "outputs": [
    {
     "data": {
      "text/plain": [
       "tensor([1, 0, 1, 1, 0, 1])"
      ]
     },
     "execution_count": 2,
     "metadata": {},
     "output_type": "execute_result"
    }
   ],
   "source": [
    "Z = torch.where(Z == -1,0,1)\n",
    "Z"
   ]
  },
  {
   "cell_type": "code",
   "execution_count": 3,
   "metadata": {},
   "outputs": [],
   "source": [
    "def Boundary_1d_sampler(M,left_side,right_side):\n",
    "    '''\n",
    "    return spatial input and corresponding S\n",
    "    '''\n",
    "    weight = torch.tensor([0.5,0.5])\n",
    "    S = torch.multinomial(weight,M,replacement = True)\n",
    "    boundary_value = S\n",
    "    S = torch.where(S==0,left_side,right_side)\n",
    "    return S.unsqueeze(-1),boundary_value.unsqueeze(-1)"
   ]
  },
  {
   "cell_type": "code",
   "execution_count": 5,
   "metadata": {},
   "outputs": [
    {
     "ename": "AttributeError",
     "evalue": "'tuple' object has no attribute 'cuda'",
     "output_type": "error",
     "traceback": [
      "\u001b[1;31m---------------------------------------------------------------------------\u001b[0m",
      "\u001b[1;31mAttributeError\u001b[0m                            Traceback (most recent call last)",
      "\u001b[1;32m~\\AppData\\Local\\Temp/ipykernel_20332/4030477450.py\u001b[0m in \u001b[0;36m<module>\u001b[1;34m\u001b[0m\n\u001b[1;32m----> 1\u001b[1;33m \u001b[0mBoundary_1d_sampler\u001b[0m\u001b[1;33m(\u001b[0m\u001b[1;36m10\u001b[0m\u001b[1;33m,\u001b[0m\u001b[1;33m-\u001b[0m\u001b[1;36m1\u001b[0m\u001b[1;33m,\u001b[0m\u001b[1;36m1\u001b[0m\u001b[1;33m)\u001b[0m\u001b[1;33m.\u001b[0m\u001b[0mcuda\u001b[0m\u001b[1;33m(\u001b[0m\u001b[1;33m)\u001b[0m\u001b[1;33m\u001b[0m\u001b[1;33m\u001b[0m\u001b[0m\n\u001b[0m",
      "\u001b[1;31mAttributeError\u001b[0m: 'tuple' object has no attribute 'cuda'"
     ]
    }
   ],
   "source": [
    "Boundary_1d_sampler(10,-1,1).cuda()"
   ]
  },
  {
   "cell_type": "code",
   "execution_count": null,
   "metadata": {},
   "outputs": [],
   "source": []
  }
 ],
 "metadata": {
  "kernelspec": {
   "display_name": "Python 3.9.7 ('base')",
   "language": "python",
   "name": "python3"
  },
  "language_info": {
   "codemirror_mode": {
    "name": "ipython",
    "version": 3
   },
   "file_extension": ".py",
   "mimetype": "text/x-python",
   "name": "python",
   "nbconvert_exporter": "python",
   "pygments_lexer": "ipython3",
   "version": "3.9.7"
  },
  "orig_nbformat": 4,
  "vscode": {
   "interpreter": {
    "hash": "dc07d24e2f18896857f0b2a651fe84ba40ce7b297e58d8804a308c8039f752a6"
   }
  }
 },
 "nbformat": 4,
 "nbformat_minor": 2
}
